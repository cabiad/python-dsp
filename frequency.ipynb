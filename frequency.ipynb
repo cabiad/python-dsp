{
 "metadata": {
  "name": "Frequency Analysis"
 },
 "nbformat": 3,
 "nbformat_minor": 0,
 "worksheets": [
  {
   "cells": [
    {
     "cell_type": "markdown",
     "metadata": {},
     "source": [
      "Let's get our sine waves and environment from the first session ready."
     ]
    },
    {
     "cell_type": "code",
     "collapsed": false,
     "input": [
      "from numpy import arange, pi, sin\n",
      "\n",
      "x = arange(0.0, 1.0, 1.0 / 300) # 300 samples from 0.0 to 1.0\n",
      "\n",
      "f1 = 10.0\n",
      "f2 = 20.0\n",
      "\n",
      "sig1 = sin(2 * pi * f1 * x) # sine wave with frequency of 10Hz\n",
      "sig2 = sin(2 * pi * f2 * x) # sine wave with frequency of 20Hz\n",
      "sig = sig1 + sig2\n",
      "\n",
      "def makeplot(sig):\n",
      "    pylab.clf()\n",
      "    pylab.plot(sig)\n",
      "    pylab.show()"
     ],
     "language": "python",
     "metadata": {},
     "outputs": []
    },
    {
     "cell_type": "markdown",
     "metadata": {},
     "source": [
      "For the first example, we're going to use numpy's Fourier Transform module"
     ]
    },
    {
     "cell_type": "code",
     "collapsed": false,
     "input": [
      "from numpy import fft"
     ],
     "language": "python",
     "metadata": {},
     "outputs": []
    },
    {
     "cell_type": "markdown",
     "metadata": {},
     "source": [
      "Since our data is real valued, we use the rfft() variant"
     ]
    },
    {
     "cell_type": "code",
     "collapsed": false,
     "input": [
      "spec1 = fft.rfft(sig)\n",
      "makeplot(spec1)"
     ],
     "language": "python",
     "metadata": {},
     "outputs": []
    },
    {
     "cell_type": "markdown",
     "metadata": {},
     "source": [
      "There's an error and that's not a very useful plot.\n",
      "\n",
      "What does our data look like?"
     ]
    },
    {
     "cell_type": "code",
     "collapsed": false,
     "input": [
      "spec1[0]"
     ],
     "language": "python",
     "metadata": {},
     "outputs": []
    },
    {
     "cell_type": "code",
     "collapsed": false,
     "input": [
      "type(spec1[0])"
     ],
     "language": "python",
     "metadata": {},
     "outputs": []
    },
    {
     "cell_type": "markdown",
     "metadata": {},
     "source": [
      "The Fourier Transform returns complex values.\n",
      "\n",
      "For now, we're only interested in what's called the magnitude spectrum, literally the magnitude of the complex values.\n",
      "\n",
      "This can be obtained using a built in python function called:\n",
      "\n",
      "    abs()"
     ]
    },
    {
     "cell_type": "code",
     "collapsed": false,
     "input": [
      "spec1 = abs(fft.rfft(sig)) # Note the abs() call here\n",
      "makeplot(spec1[:40]) # The [:40] here limits the plot to the first 40Hz of the spectrum"
     ],
     "language": "python",
     "metadata": {},
     "outputs": []
    },
    {
     "cell_type": "markdown",
     "metadata": {},
     "source": [
      "That's more like it. Two spikes at the frequencies we expect.\n",
      "\n",
      "In general though, we tend to think of volume in a normalized way called decibels.\n",
      "\n",
      "Let's normalize to decibels."
     ]
    },
    {
     "cell_type": "code",
     "collapsed": false,
     "input": [
      "from numpy import log10\n",
      "decibel_spec1 = 10 * log10(spec1) # decibels are 10log10(value)\n",
      "makeplot(decibel_spec1[:40])"
     ],
     "language": "python",
     "metadata": {},
     "outputs": []
    },
    {
     "cell_type": "markdown",
     "metadata": {},
     "source": [
      "The noise you see at the bottom is actually quantization noise, caused by representing a continuous signal digitally.\n",
      "\n",
      "Let's take a look at another type of visualization."
     ]
    },
    {
     "cell_type": "code",
     "collapsed": false,
     "input": [
      "pylab.clf()\n",
      "specgram(sig)\n",
      "pylab.show()"
     ],
     "language": "python",
     "metadata": {},
     "outputs": []
    },
    {
     "cell_type": "markdown",
     "metadata": {},
     "source": [
      "> **Note:** The plot provided by specgram is logarithmic, but the red bars do correspond with 10Hz and 20Hz"
     ]
    }
   ],
   "metadata": {}
  }
 ]
}