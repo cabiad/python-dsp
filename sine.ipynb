{
 "metadata": {
  "name": "Sine Waves"
 },
 "nbformat": 3,
 "nbformat_minor": 0,
 "worksheets": [
  {
   "cells": [
    {
     "cell_type": "markdown",
     "metadata": {},
     "source": [
      "First, we import the functions we need from the numpy library:\n",
      "\n",
      "    arange(start, stop, step) - provides evenly spaced values between start and stop\n",
      "\n",
      "    pi - the constant 3.14159...\n",
      "\n",
      "    sin() - performs its mathmatical operation on array and array-likes and expects its arguments to be in radians"
     ]
    },
    {
     "cell_type": "code",
     "collapsed": false,
     "input": [
      "from numpy import arange, pi, sin"
     ],
     "language": "python",
     "metadata": {},
     "outputs": []
    },
    {
     "cell_type": "markdown",
     "metadata": {},
     "source": [
      "Now let's create and interesting signal or two..."
     ]
    },
    {
     "cell_type": "code",
     "collapsed": false,
     "input": [
      "x = arange(0.0, 1.0, 1.0 / 300) # 300 samples from 0.0 to 1.0\n",
      "\n",
      "f1 = 10.0\n",
      "f2 = 20.0\n",
      "\n",
      "sig1 = sin(2 * pi * f1 * x) # sine wave with frequency of 10Hz\n",
      "sig2 = sin(2 * pi * f2 * x) # sine wave with frequency of 20Hz"
     ],
     "language": "python",
     "metadata": {},
     "outputs": []
    },
    {
     "cell_type": "markdown",
     "metadata": {},
     "source": [
      "...and try plotting one of them.\n",
      "\n",
      "> **Note:** We started the iPython notebook in 'pylab --inline' mode, which auto-imports pylab and lets us see plots inline in this notebook."
     ]
    },
    {
     "cell_type": "code",
     "collapsed": true,
     "input": [
      "pylab.clf()\n",
      "pylab.plot(sig1)\n",
      "pylab.show()"
     ],
     "language": "python",
     "metadata": {},
     "outputs": []
    },
    {
     "cell_type": "markdown",
     "metadata": {},
     "source": [
      "We'll create a plotting function for convenice now too."
     ]
    },
    {
     "cell_type": "code",
     "collapsed": false,
     "input": [
      "def makeplot(sig):\n",
      "    pylab.clf()\n",
      "    pylab.plot(sig)\n",
      "    pylab.show()"
     ],
     "language": "python",
     "metadata": {},
     "outputs": []
    },
    {
     "cell_type": "markdown",
     "metadata": {},
     "source": [
      "With just what's been shown, you can already do some potentially interesting signal manipulation and visualization."
     ]
    },
    {
     "cell_type": "code",
     "collapsed": false,
     "input": [
      "sig = sig1 + sig2\n",
      "makeplot(sig)"
     ],
     "language": "python",
     "metadata": {},
     "outputs": []
    }
   ],
   "metadata": {}
  }
 ]
}