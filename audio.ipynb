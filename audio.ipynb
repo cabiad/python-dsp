{
 "metadata": {
  "name": "First Steps with Audio"
 },
 "nbformat": 3,
 "nbformat_minor": 0,
 "worksheets": [
  {
   "cells": [
    {
     "cell_type": "markdown",
     "metadata": {},
     "source": [
      "Let's get our environment ready again, picking up where we left off with the previous demo"
     ]
    },
    {
     "cell_type": "code",
     "collapsed": false,
     "input": [
      "# Sine Wave Demo\n",
      "from numpy import arange, pi, sin\n",
      "\n",
      "x = arange(0.0, 1.0, 1.0 / 300) # 300 samples from 0.0 to 1.0\n",
      "\n",
      "f1 = 10.0\n",
      "f2 = 20.0\n",
      "\n",
      "sig1 = sin(2 * pi * f1 * x) # sine wave with frequency of 10Hz\n",
      "sig2 = sin(2 * pi * f2 * x) # sine wave with frequency of 20Hz\n",
      "sig = sig1 + sig2\n",
      "\n",
      "def makeplot(sig):\n",
      "    pylab.clf()\n",
      "    pylab.plot(sig)\n",
      "    pylab.show()\n",
      "\n",
      "# Frequency Analysis Demo\n",
      "from numpy import fft\n",
      "spec1 = abs(fft.rfft(sig)) # Note the abs() call here\n",
      "\n",
      "from numpy import log10\n",
      "decibel_spec1 = 10 * log10(spec1) # decibels are 10log10(value)"
     ],
     "language": "python",
     "metadata": {},
     "outputs": []
    },
    {
     "cell_type": "markdown",
     "metadata": {},
     "source": [
      "The first step in working with audio in Python is importing it.\n",
      "\n",
      "The SciPy library has a wave file I/O library which is quite easy to use with the numpy libraries."
     ]
    },
    {
     "cell_type": "code",
     "collapsed": false,
     "input": [
      "import scipy.io.wavfile as wavfile\n",
      "\n",
      "WAVFILE = '/users/christopherabiad/desktop/flute.wav'\n",
      "wavfile.read(WAVFILE)"
     ],
     "language": "python",
     "metadata": {},
     "outputs": []
    },
    {
     "cell_type": "markdown",
     "metadata": {},
     "source": [
      "This method returns a tuple. The first element is the sample rate of the imported wav file, the second is a numpy array.\n",
      "\n",
      "This recording was done at the same sample rate as CD audio.\n",
      "\n",
      "> **Note:** We can also save numpy arrays back to disk using\n",
      "\n",
      "    wavfile.write()\n",
      "\n",
      "> (We have to provide the sample rate)\n",
      "\n",
      "For convenience, let's define a numpy-array-getting function"
     ]
    },
    {
     "cell_type": "code",
     "collapsed": false,
     "input": [
      "def getwavdata(filename):\n",
      "    return wavfile.read(filename)[1]"
     ],
     "language": "python",
     "metadata": {},
     "outputs": []
    },
    {
     "cell_type": "markdown",
     "metadata": {},
     "source": [
      "Let's import the audio data of that sample file and see what the raw audio looks like."
     ]
    },
    {
     "cell_type": "code",
     "collapsed": false,
     "input": [
      "audio = getwavdata(WAVFILE)\n",
      "makeplot(audio)"
     ],
     "language": "python",
     "metadata": {},
     "outputs": []
    },
    {
     "cell_type": "markdown",
     "metadata": {},
     "source": [
      "You can distinctly see the multiple notes being played\n",
      "\n",
      "We can isolate a conveniently sized segment of the first note using array slicing, and plot it separately"
     ]
    },
    {
     "cell_type": "code",
     "collapsed": false,
     "input": [
      "note = audio[44101:88200]\n",
      "makeplot(note)"
     ],
     "language": "python",
     "metadata": {},
     "outputs": []
    },
    {
     "cell_type": "markdown",
     "metadata": {},
     "source": [
      "> **Note:** This happens to be a B3 or a 246.94Hz note, played on a flute.\n",
      "\n",
      "What does the magnitude spectrum of this signal look like?"
     ]
    },
    {
     "cell_type": "code",
     "collapsed": false,
     "input": [
      "spec = abs(fft.rfft(note))\n",
      "makeplot(spec[245:253]) # show only frequencies right around 246.94Hz\n",
      "makeplot(spec[:600]) # show from 0Hz and first harmonic as well\n"
     ],
     "language": "python",
     "metadata": {},
     "outputs": []
    },
    {
     "cell_type": "markdown",
     "metadata": {},
     "source": [
      "If we check carefully, the peak is around 248Hz (245 + 3), very close to the B3 note's frequency of 246.94Hz. Our flute player was perhaps only out of tune by about 1Hz\n",
      "\n",
      "We can see the first harmonic of the note quite clearly too.\n",
      "\n",
      "What about the spectrogram?"
     ]
    },
    {
     "cell_type": "code",
     "collapsed": false,
     "input": [
      "pylab.clf()\n",
      "note_specgram = specgram(note)"
     ],
     "language": "python",
     "metadata": {},
     "outputs": []
    },
    {
     "cell_type": "markdown",
     "metadata": {},
     "source": [
      "There's clearly a lot of noise in this recording, but there are faint dark red bands visible on close inspection."
     ]
    }
   ],
   "metadata": {}
  }
 ]
}